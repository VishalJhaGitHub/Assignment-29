{
  "nbformat": 4,
  "nbformat_minor": 0,
  "metadata": {
    "colab": {
      "provenance": []
    },
    "kernelspec": {
      "name": "python3",
      "display_name": "Python 3"
    },
    "language_info": {
      "name": "python"
    }
  },
  "cells": [
    {
      "cell_type": "code",
      "execution_count": null,
      "metadata": {
        "id": "QOpQ2Z3dexqV"
      },
      "outputs": [],
      "source": [
        "#1. How can you create a Bokeh plot using Python code?\n",
        "\n",
        "#Ans\n",
        "\n",
        "#Bokeh is a Python library that allows you to create interactive data visualizations in a web browser. To create a Bokeh plot using Python code, you can follow these steps:\n",
        "\n",
        "#1 - Install Bokeh library by running the command pip install bokeh in your terminal or command prompt.\n",
        "\n",
        "#2 - Import the necessary Bokeh functions and classes:\n",
        "\n",
        "from bokeh.plotting import figure, output_file, show\n",
        "\n",
        "#3 - Prepare your data for visualization. Bokeh supports various data formats, such as NumPy arrays, Pandas dataframes, or lists.\n",
        "\n",
        "x_values = [1, 2, 3, 4, 5]\n",
        "y_values = [6, 7, 2, 4, 5]\n",
        "\n",
        "#4 - Create a figure object using the figure() function, which defines the size, title, and other properties of your plot.\n",
        "\n",
        "p = figure(title='My Bokeh Plot', x_axis_label='X-axis', y_axis_label='Y-axis', plot_width=400, plot_height=400)\n",
        "\n",
        "#5 - Add glyphs to your figure object using one of the available glyph methods. In this example, we'll use the circle() method to add circles to our plot.\n",
        "\n",
        "p.circle(x_values, y_values, size=10, color='navy', alpha=0.5)\n",
        "\n",
        "#6 - Define the output file type and name using the output_file() function.\n",
        "\n",
        "output_file('my_plot.html')\n",
        "\n",
        "#7 - Display the plot using the show() function.\n",
        "\n",
        "show(p)\n",
        "\n",
        "#Putting it all together, here's an example Python code that creates a simple Bokeh plot:\n",
        "\n",
        "from bokeh.plotting import figure, output_file, show\n",
        "x_values = [1, 2, 3, 4, 5]\n",
        "y_values = [6, 7, 2, 4, 5]\n",
        "p = figure(title='My Bokeh Plot', x_axis_label='X-axis', y_axis_label='Y-axis', plot_width=400, plot_height=400)\n",
        "p.circle(x_values, y_values, size=10, color='navy', alpha=0.5)\n",
        "output_file('my_plot.html')\n",
        "show(p)\n",
        "\n",
        "#This will create a Bokeh plot and save it to a file named \"my_plot.html\" in your current working directory, and then display it in a new browser window."
      ]
    },
    {
      "cell_type": "code",
      "source": [
        "#2. What are glyphs in Bokeh, and how can you add them to a Bokeh plot? Explain with an example.\n",
        "\n",
        "#Ans\n",
        "\n",
        "#Glyphs in Bokeh are the visual markers that represent data points on a plot, such as circles, squares, triangles, or lines. You can add glyphs to a Bokeh plot using one of the available glyph methods provided by the figure object.\n",
        "\n",
        "#Example that shows how to add glyphs to a Bokeh plot using the circle() method:\n",
        "\n",
        "from bokeh.plotting import figure, output_file, show\n",
        "\n",
        "# Define the data\n",
        "x_values = [1, 2, 3, 4, 5]\n",
        "y_values = [6, 7, 2, 4, 5]\n",
        "# Create a figure object\n",
        "p = figure(title='My Bokeh Plot', x_axis_label='X-axis', y_axis_label='Y-axis', plot_width=400, plot_height=400)\n",
        "# Add circles to the plot using the circle() method\n",
        "p.circle(x_values, y_values, size=10, color='navy', alpha=0.5)\n",
        "# Define the output file\n",
        "output_file('my_plot.html')\n",
        "# Display the plot\n",
        "show(p)\n",
        "\n",
        "#In this example, we first define the data that we want to plot: x_values and y_values. Then we create a figure object with a title, x and y axis labels, and a specific plot size.\n",
        "\n",
        "#Next, we add circles to the plot using the circle() method of the figure object. The circle() method takes the x and y values as arguments, along with the size, color, and alpha (transparency) values for the circles.\n",
        "\n",
        "#Finally, we define the output file name using the output_file() function, and display the plot using the show() function.\n",
        "\n",
        "#You can use other glyph methods such as square(), triangle(), line(), segment(), etc., to add different types of markers to your Bokeh plot. The method parameters may differ depending on the type of glyph, but most of them share common properties like size, color, and alpha."
      ],
      "metadata": {
        "id": "VdVMjDyjiO5K"
      },
      "execution_count": 1,
      "outputs": []
    },
    {
      "cell_type": "code",
      "source": [
        "#3. How can you customize the appearance of a Bokeh plot, including the axes, title, and legend?\n",
        "\n",
        "#Ans\n",
        "\n",
        "#Bokeh provides a wide range of options for customizing the appearance of a plot. Here are some of the most common customization options:\n",
        "\n",
        "#1 - Title: You can set the title of the plot using the title attribute of the figure object. You can also customize the font size, color, and style of the title using the title_text_font_size, title_text_color, and title_text_font_style attributes.\n",
        "\n",
        "from bokeh.plotting import figure\n",
        "# create a figure object with a title\n",
        "p = figure(title='My Bokeh Plot', plot_width=400, plot_height=400, title_text_font_size='16pt', title_text_color='blue', title_text_font_style='bold')\n",
        "# add some glyphs to the plot\n",
        "p.circle([1, 2, 3], [4, 5, 6])\n",
        "# display the plot\n",
        "show(p)\n",
        "\n",
        "#2 - Axes: You can customize the appearance of the axes using the axis_label, axis_label_text_font_size, axis_label_text_color, axis_label_text_font_style, major_label_text_font_size, major_label_text_color, major_label_text_font_style, axis_line_width, and axis_line_color attributes.\n",
        "\n",
        "from bokeh.plotting import figure\n",
        "# create a figure object with custom axes\n",
        "p = figure(title='My Bokeh Plot', plot_width=400, plot_height=400, x_axis_label='X-axis', y_axis_label='Y-axis', \n",
        "           x_axis_label_text_font_size='14pt', y_axis_label_text_font_size='14pt', \n",
        "           x_axis_label_text_color='red', y_axis_label_text_color='green', \n",
        "           x_axis_label_text_font_style='bold', y_axis_label_text_font_style='italic',\n",
        "           axis_line_width=3, axis_line_color='blue', major_label_text_font_size='12pt', major_label_text_color='black')\n",
        "# add some glyphs to the plot\n",
        "p.circle([1, 2, 3], [4, 5, 6])\n",
        "# display the plot\n",
        "show(p)\n",
        "\n",
        "#3 - Legend: You can add a legend to your plot using the legend attribute of the glyph method, and customize its appearance using the label_text_font_size, label_text_color, label_text_font_style, border_line_width, border_line_color, and background_fill_alpha attributes.\n",
        "\n",
        "from bokeh.plotting import figure\n",
        "# create a figure object with a legend\n",
        "p = figure(title='My Bokeh Plot', plot_width=400, plot_height=400)\n",
        "# add some glyphs to the plot with a legend\n",
        "p.circle([1, 2, 3], [4, 5, 6], legend_label='circle')\n",
        "p.line([1, 2, 3], [6, 5, 4], legend_label='line')\n",
        "# customize the legend appearance\n",
        "p.legend.label_text_font_size = '14pt'\n",
        "p.legend.label_text_color = 'red'\n",
        "p.legend.label_text_font_style = 'italic'\n",
        "p.legend.border_line_width = 3\n",
        "p.legend.border_line_color = 'green'\n",
        "p.legend.background_fill_alpha = 0.2\n",
        "# display the plot\n",
        "show(p)"
      ],
      "metadata": {
        "id": "Cdt8xjv8jT9h"
      },
      "execution_count": null,
      "outputs": []
    },
    {
      "cell_type": "code",
      "source": [
        "#4. What is a Bokeh server, and how can you use it to create interactive plots that can be updated in real time?\n",
        "\n",
        "#Ans\n",
        "\n",
        "#A Bokeh server is a Python web application that allows you to create and deploy interactive Bokeh plots and widgets that can be updated in real time. Bokeh server provides a way to offload computation to a server-side process, allowing you to build more complex and scalable applications.\n",
        "\n",
        "#To create an interactive plot using Bokeh server, you first need to define a Bokeh plot object as you normally would. Then, you can define a function that will be called whenever a widget is interacted with (e.g. when a button is clicked, or when a slider value is changed). This function can update the data in your plot object and trigger the plot to be redrawn.\n",
        "\n",
        "#Once you have defined your plot and your callback function, you can create a Bokeh server application by calling bokeh serve on your Python script. This will start a Bokeh server and launch your application in a web browser.\n",
        "\n",
        "#In addition to interactive plots, Bokeh server also allows you to build custom web applications with Bokeh widgets and layouts, and to integrate Bokeh plots into other web frameworks like Flask and Django.\n",
        "\n",
        "#Overall, Bokeh server provides a powerful and flexible way to build interactive data visualization applications that can be updated in real time, and that can scale to handle large datasets and complex computations."
      ],
      "metadata": {
        "id": "L78qnMQ2oeBb"
      },
      "execution_count": null,
      "outputs": []
    },
    {
      "cell_type": "code",
      "source": [
        "#5. How can you embed a Bokeh plot into a web page or dashboard using Flask or Django\n",
        "\n",
        "#Ans\n",
        "\n",
        "#To embed a Bokeh plot into a web page or dashboard using Flask or Django, you can follow these steps:\n",
        "\n",
        "#1 - Create a Bokeh plot using Bokeh library in Python.\n",
        "\n",
        "#2 - Export the plot as a JSON string using the json_item() function in Bokeh.\n",
        "\n",
        "#3 - Create a Flask or Django view function that will render the HTML template containing the plot.\n",
        "\n",
        "#4 - In the HTML template, add a div element where you want the plot to appear, and give it an id attribute.\n",
        "\n",
        "#5 - Use JavaScript to create a Bokeh plot object from the JSON string and display it in the div element."
      ],
      "metadata": {
        "id": "R4VLR4dMqNIc"
      },
      "execution_count": 9,
      "outputs": []
    },
    {
      "cell_type": "code",
      "source": [],
      "metadata": {
        "id": "iDk6JIbWsxxS"
      },
      "execution_count": null,
      "outputs": []
    }
  ]
}